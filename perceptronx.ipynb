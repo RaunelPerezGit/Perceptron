{
 "cells": [
  {
   "cell_type": "code",
   "execution_count": 10,
   "metadata": {},
   "outputs": [
    {
     "name": "stdout",
     "output_type": "stream",
     "text": [
      "Selecciona una opción:\n",
      "AND......1\n",
      "OR.......2\n",
      "NAND.....3\n",
      "NOR......41\n"
     ]
    },
    {
     "data": {
      "image/png": "[encoded data removed]",
      "text/plain": [
       "<Figure size 432x288 with 1 Axes>"
      ]
     },
     "metadata": {
      "needs_background": "light"
     },
     "output_type": "display_data"
    }
   ],
   "source": [
    "from random import uniform\n",
    "import numpy as np\n",
    "import matplotlib.pyplot as plt\n",
    "matrix=np.array([[0,0],[0,1],[1,0],[1,1]])\n",
    "t = np.array([[0,0,0,1],[0,1,1,1],[1,1,1,0],[1,0,0,0]])\n",
    "w1= uniform(0,1)\n",
    "w2= uniform(0,1)\n",
    "b= uniform(0,1)\n",
    "l=1\n",
    "at=0 #a es el valor que se obtuvo y t el valor esperado (at)\n",
    "i=0\n",
    "opc = int(input(\"Selecciona una opción:\\nAND......1\\nOR.......2\\nNAND.....3\\nNOR......4\"))\n",
    "opc = opc-1\n",
    "while i<4:\n",
    "    while at==0 :\n",
    "        n=w1*matrix[i,0]+w2*matrix[i,1]+b;\n",
    "        if n>=0:\n",
    "            a=1\n",
    "        else:\n",
    "            a=0\n",
    "        if t[opc,i]!=a:\n",
    "            wn1=w1+(l*(t[opc,i]-a)*matrix[i,0])\n",
    "            wn2=w2+(l*(t[opc,i]-a)*matrix[i,1])\n",
    "            bn=b+(l*(t[opc,i]-a))\n",
    "            w1=wn1\n",
    "            w2=wn2\n",
    "            b=bn\n",
    "            i=0\n",
    "        else:\n",
    "            at=1\n",
    "    i=i+1\n",
    "    at=0 \n",
    "b=b*-1\n",
    "p1=(b)/w1\n",
    "p2=b/w2\n",
    "plt.plot([p1,0],[0,p2])\n",
    "plt.plot([0,w1],[0,w2])\n",
    "plt.plot([0, 0, 1, 1], [0, 1, 0, 1], 'ro')\n",
    "plt.show()"
   ]
  },
  {
   "cell_type": "code",
   "execution_count": null,
   "metadata": {},
   "outputs": [],
   "source": []
  },
  {
   "cell_type": "code",
   "execution_count": null,
   "metadata": {},
   "outputs": [],
   "source": []
  }
 ],
 "metadata": {
  "kernelspec": {
   "display_name": "Python 3",
   "language": "python",
   "name": "python3"
  }
 },
 "nbformat": 4,
 "nbformat_minor": 2
}
